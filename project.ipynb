import numpy as np
import pandas as pd
import matplotlib.pyplot as plt
import torch
from torch.autograd import Variable
import os
import torchvision
import torch.nn as nn
import torch.nn.functional as F
from torchvision.datasets import ImageFolder
from torch.utils.data import DataLoader
import torchvision.transforms as tt
from torchvision.utils import make_grid
import matplotlib.pyplot as plt
%matplotlib inline
from google.colab import files
import xlrd



#Uploading datasets
uploaded = files.upload()



#Checking the datasets size
for fn in uploaded.keys():
  print('User uploaded file "{name}" with length {length} bytes'.format(
      name=fn, length=len(uploaded[fn])))



#Import online retail data containing trasactions from 01/07/2020 to 31/08/2020 & avoid any errors which might have occured due to certain invalid character
wb = xlrd.open_workbook(path, encoding_override='latin1')
rlt_data = pd.read_excel(wb)



#Customer distribution by name
name_cust_data = rlt_data[['First_Name_(Billing)', 'Order_Number']].drop_duplicates()
name_cust_data.groupby(['First_Name_(Billing)'])['Order_Number'].aggregate('count').reset_index().sort_values('Order_Number',ascending=False)



#Checking if there is any null values
rlt_data.isnull().sum(axis=0)



#Checking if there is any negative values
rlt_data.Quantity.min()



#Checking if there is any negative values
rlt_data.Unit_Price.min()



#Converting the string date field to datetime
rlt_data['Order_Date'] = pd.to_datetime(rlt_data['Order_Date'])



rlt_data.shape



#Recency = Latest Date - Last Order Date, Frequency = count of order ID of transaction(s), Monetary = Order Total Amount 
import datetime



#Set Latest date 2020-09-01 as last order date was 2020-08-31. This is to calculate the number of days from recent purchase
lastest_date = datetime.datetime(2020, 9, 1)



#Create RFM Modelling scores for each customer
rfm_scores = rlt_data.groupby('First_Name_(Billing)').agg({'Order_Date': lambda x: (lastest_date - x.max()).days, 'Order_Number': lambda x: len(x), 'Order_Total_Amount': lambda x: x.sum()})



#Convert Invoice Date into type int
rfm_scores['Order_Date'] = rfm_scores['Order_Date'].astype(int)



#Rename column names to Recency, Frequency and Monetary
rfm_scores.rename(columns={'Order_Date': 'recency', 
                         'Order_Number': 'frequency', 
                         'Order_Total_Amount': 'monetary'}, inplace=True)



#Descriptive Statistics (Recency)
rfm_scores.recency.describe()



#Recency distribution plot
import seaborn as sns
x = rfm_scores['recency']

ax = sns.distplot(x)



#Descriptive Statistics (Frequency)
rfm_scores.frequency.describe()



#Frequency distribution plot, taking observations which have frequency less than 1000
x = rfm_scores.query('frequency < 100')['frequency']
ax = sns.distplot(x)



#Descriptive Statistics (Monetary)
rfm_scores.monetary.describe()



#Monateray distribution plot, taking observations which have monetary value less than 10000
x = rfm_scores.query('monetary < 10000')['monetary']
ax = sns.distplot(x)



#Split into four segments using quantiles
quantiles = rfm_scores.quantile(q=[0.25,0.5,0.75])
quantiles = quantiles.to_dict()



quantiles



def r_scoring(x,p,d):
    if x <= d[p][0.25]:
        return 1
    elif x <= d[p][0.50]:
        return 2
    elif x <= d[p][0.75]: 
        return 3
    else:
        return 4
    
def fnm_Scoring(x,p,d):
    if x <= d[p][0.25]:
        return 4
    elif x <= d[p][0.50]:
        return 3
    elif x <= d[p][0.75]: 
        return 2
    else:
        return 1



#Calculate Add R, F and M segment value columns in the existing dataset to show R, F and M segment values
rfm_scores['R'] = rfm_scores['recency'].apply(r_scoring, args=('recency',quantiles,))
rfm_scores['F'] = rfm_scores['frequency'].apply(fnm_Scoring, args=('frequency',quantiles,))
rfm_scores['M'] = rfm_scores['monetary'].apply(fnm_Scoring, args=('monetary',quantiles,))
rfm_scores
                                               
                                               
                                               
#Calculate and Add rfm_scores value column showing combined concatenated score of RFM
rfm_scores['rfm_group'] = rfm_scores.R.map(str) + rfm_scores.F.map(str) + rfm_scores.M.map(str)

#Calculate and Add rfm_scores value column showing total sum of rfm_group values
rfm_scores['rfm_score'] = rfm_scores[['R', 'F', 'M']].sum(axis = 1)
rfm_scores



#Assign Loyalty Level to each customer
loyalty_Level = ['Platinum', 'Gold', 'Silver', 'Bronze']
score_cuts = pd.qcut(rfm_scores.rfm_score, q = 4, labels = loyalty_Level)
rfm_scores['rfm_loyalty_level'] = score_cuts.values
rfm_scores.reset_index().head(20)



#Validate the data for RFMGroup = 111
rfm_scores[rfm_scores['rfm_group']=='111'].sort_values('monetary', ascending=False).reset_index().head(20)



#import chart_studio
import plotly.offline as po
import plotly.graph_objs as gobj

#Recency Vs Frequency
graph = rfm_scores.query("monetary < 50000 and frequency < 2000")

plot_data = [
    gobj.Scatter(
        x=graph.query("rfm_loyalty_level == 'Bronze'")['recency'],
        y=graph.query("rfm_loyalty_level == 'Bronze'")['frequency'],
        mode='markers',
        name='Bronze',
        marker= dict(size= 7,
            line= dict(width=1),
            color= 'blue',
            opacity= 0.8
           )
    ),
        gobj.Scatter(
        x=graph.query("rfm_loyalty_level == 'Silver'")['recency'],
        y=graph.query("rfm_loyalty_level == 'Silver'")['frequency'],
        mode='markers',
        name='Silver',
        marker= dict(size= 9,
            line= dict(width=1),
            color= 'green',
            opacity= 0.5
           )
    ),
        gobj.Scatter(
        x=graph.query("rfm_loyalty_level == 'Gold'")['recency'],
        y=graph.query("rfm_loyalty_level == 'Gold'")['frequency'],
        mode='markers',
        name='Gold',
        marker= dict(size= 11,
            line= dict(width=1),
            color= 'red',
            opacity= 0.9
           )
    ),
    gobj.Scatter(
        x=graph.query("rfm_loyalty_level == 'Platinum'")['recency'],
        y=graph.query("rfm_loyalty_level == 'Platinum'")['frequency'],
        mode='markers',
        name='Platinum',
        marker= dict(size= 13,
            line= dict(width=1),
            color= 'black',
            opacity= 0.9
           )
    ),
]

plot_layout = gobj.Layout(
        yaxis= {'title': "Frequency"},
        xaxis= {'title': "Recency"},
        title='Segments'
    )
fig = gobj.Figure(data=plot_data, layout=plot_layout)
po.iplot(fig)

#Frequency Vs Monetary
graph = rfm_scores.query("monetary < 50000 and frequency < 2000")

plot_data = [
    gobj.Scatter(
        x=graph.query("rfm_loyalty_level == 'Bronze'")['frequency'],
        y=graph.query("rfm_loyalty_level == 'Bronze'")['monetary'],
        mode='markers',
        name='Bronze',
        marker= dict(size= 7,
            line= dict(width=1),
            color= 'blue',
            opacity= 0.8
           )
    ),
        gobj.Scatter(
        x=graph.query("rfm_loyalty_level == 'Silver'")['frequency'],
        y=graph.query("rfm_loyalty_level == 'Silver'")['monetary'],
        mode='markers',
        name='Silver',
        marker= dict(size= 9,
            line= dict(width=1),
            color= 'green',
            opacity= 0.5
           )
    ),
        gobj.Scatter(
        x=graph.query("rfm_loyalty_level == 'Gold'")['frequency'],
        y=graph.query("rfm_loyalty_level == 'Gold'")['monetary'],
        mode='markers',
        name='Gold',
        marker= dict(size= 11,
            line= dict(width=1),
            color= 'red',
            opacity= 0.9
           )
    ),
    gobj.Scatter(
        x=graph.query("rfm_loyalty_level == 'Platinum'")['frequency'],
        y=graph.query("rfm_loyalty_level == 'Platinum'")['monetary'],
        mode='markers',
        name='Platinum',
        marker= dict(size= 13,
            line= dict(width=1),
            color= 'black',
            opacity= 0.9
           )
    ),
]

plot_layout = gobj.Layout(
        yaxis= {'title': "Monetary"},
        xaxis= {'title': "Frequency"},
        title='Segments'
    )
fig = gobj.Figure(data=plot_data, layout=plot_layout)
po.iplot(fig)

#Recency Vs Monetary
graph = rfm_scores.query("monetary < 50000 and frequency < 2000")

plot_data = [
    gobj.Scatter(
        x=graph.query("rfm_loyalty_level == 'Bronze'")['recency'],
        y=graph.query("rfm_loyalty_level == 'Bronze'")['monetary'],
        mode='markers',
        name='Bronze',
        marker= dict(size= 7,
            line= dict(width=1),
            color= 'blue',
            opacity= 0.8
           )
    ),
        gobj.Scatter(
        x=graph.query("rfm_loyalty_level == 'Silver'")['recency'],
        y=graph.query("rfm_loyalty_level == 'Silver'")['monetary'],
        mode='markers',
        name='Silver',
        marker= dict(size= 9,
            line= dict(width=1),
            color= 'green',
            opacity= 0.5
           )
    ),
        gobj.Scatter(
        x=graph.query("rfm_loyalty_level == 'Gold'")['recency'],
        y=graph.query("rfm_loyalty_level == 'Gold'")['monetary'],
        mode='markers',
        name='Gold',
        marker= dict(size= 11,
            line= dict(width=1),
            color= 'red',
            opacity= 0.9
           )
    ),
    gobj.Scatter(
        x=graph.query("rfm_loyalty_level == 'Platinum'")['recency'],
        y=graph.query("rfm_loyalty_level == 'Platinum'")['monetary'],
        mode='markers',
        name='Platinum',
        marker= dict(size= 13,
            line= dict(width=1),
            color= 'black',
            opacity= 0.9
           )
    ),
]

plot_layout = gobj.Layout(
        yaxis= {'title': "Monetary"},
        xaxis= {'title': "Recency"},
        title='Segments'
    )
fig = gobj.Figure(data=plot_data, layout=plot_layout)
po.iplot(fig)



#Handle negative and zero values so as to handle infinite numbers during log transformation
def handle_neg_n_zero(num):
    if num <= 0:
        return 1
    else:
        return num
#Apply handle_neg_n_zero function to Recency and Monetary columns 
rfm_scores['recency'] = [handle_neg_n_zero(x) for x in rfm_scores.recency]
rfm_scores['monetary'] = [handle_neg_n_zero(x) for x in rfm_scores.monetary]

#Perform Log transformation to bring data into normal or near normal distribution
Log_Tfd_Data = rfm_scores[['recency', 'frequency', 'monetary']].apply(np.log, axis = 1).round(3)



#Data distribution after data normalization for Recency
Recency_Plot = Log_Tfd_Data['recency']
ax = sns.distplot(Recency_Plot)



#Data distribution after data normalization for Frequency
Frequency_Plot = Log_Tfd_Data.query('frequency < 100')['frequency']
ax = sns.distplot(Frequency_Plot)



#Data distribution after data normalization for Monetary
Monetary_Plot = Log_Tfd_Data.query('monetary < 10000')['monetary']
ax = sns.distplot(Monetary_Plot)



from sklearn.preprocessing import StandardScaler

#Bring the data on same scale
scaleobj = StandardScaler()
Scaled_Data = scaleobj.fit_transform(Log_Tfd_Data)

#Transform it back to dataframe
Scaled_Data = pd.DataFrame(Scaled_Data, index = rfm_scores.index, columns = Log_Tfd_Data.columns)



from sklearn.cluster import KMeans

sum_of_sq_dist = {}
for k in range(1,15):
    km = KMeans(n_clusters= k, init= 'k-means++', max_iter= 1000)
    km = km.fit(Scaled_Data)
    sum_of_sq_dist[k] = km.inertia_
    
#Plot the graph for the sum of square distance values and Number of Clusters
sns.pointplot(x = list(sum_of_sq_dist.keys()), y = list(sum_of_sq_dist.values()))
plt.xlabel('Number of Clusters(k)')
plt.ylabel('Sum of Square Distances')
plt.title('Elbow Method For Optimal k')
plt.show()




#Perform K-Mean Clustering or build the K-Means clustering model
KMean_clust = KMeans(n_clusters= 3, init= 'k-means++', max_iter= 1000)
KMean_clust.fit(Scaled_Data)

#Find the clusters for the observation given in the dataset
rfm_scores['Cluster'] = KMean_clust.labels_
rfm_scores.head(20)




from matplotlib import pyplot as plt
plt.figure(figsize=(7,7))

##Scatter Plot Frequency Vs Recency
Colors = ["red", "green", "blue"]
rfm_scores['Color'] = rfm_scores['Cluster'].map(lambda p: Colors[p])
ax = rfm_scores.plot(    
    kind="scatter", 
    x="recency", y="frequency",
    figsize=(10,8),
    c = rfm_scores['Color']
)




rfm_scores.head(30)



rfm_scores['rfm_loyalty_level']



skpm = rfm_scores[rfm_scores['rfm_loyalty_level']=='Platinum']
skpm
